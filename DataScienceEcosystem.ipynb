{
 "cells": [
  {
   "cell_type": "markdown",
   "id": "6c17748a-1f90-4658-8ea0-0a5e3af17edb",
   "metadata": {},
   "source": [
    "# Data Science Tools and Ecosystem"
   ]
  },
  {
   "cell_type": "markdown",
   "id": "c1a903c2-1503-4ec7-8a1b-f8cbe497befa",
   "metadata": {},
   "source": [
    "In this notebook, various data science tools and aspects of the data science ecosystem are summarised."
   ]
  },
  {
   "cell_type": "markdown",
   "id": "be25944d-fd4c-43ea-94dd-f864105146f0",
   "metadata": {},
   "source": [
    "The objectives of this notebook are:\n",
    "\n",
    "**Objectives:**\n",
    "\n",
    "- To identify several popular languages used by data scientists.\n",
    "- To identify several common libraries used by data scientists.\n",
    "- To demonstrate how basic arithmetic expressions are evaluated in Python."
   ]
  },
  {
   "cell_type": "markdown",
   "id": "77fb9d76-67c5-43c4-8712-af3d1caf0dbb",
   "metadata": {},
   "source": [
    "Amongst some of the most popular languages used by data scientists are:\n",
    "\n",
    "1. Python\n",
    "2. R\n",
    "3. C++\n",
    "4. Java\n",
    "5. Julia"
   ]
  },
  {
   "cell_type": "markdown",
   "id": "32942a1d-c594-4170-9519-ef0acf1bdcf8",
   "metadata": {},
   "source": [
    "Amongst some of the most common libraries used by data scientists are:\n",
    "\n",
    "1. Pandas\n",
    "2. NumPy\n",
    "3. SciPy\n",
    "4. Matplotlib"
   ]
  },
  {
   "cell_type": "markdown",
   "id": "b7b1cdbb-3b18-40ae-a720-df499acfc2ff",
   "metadata": {},
   "source": [
    "| Data Science Tools |\n",
    "|--------------------|\n",
    "| Jupyter Lab / Jupyter Notebooks |\n",
    "| Spyder |\n",
    "| RStudio |"
   ]
  },
  {
   "cell_type": "markdown",
   "id": "c6f8f175-281d-459c-880f-11e69d68a2ae",
   "metadata": {},
   "source": [
    "### A couple of examples of how to evaluate arithmetic expressions in Python are provided below."
   ]
  },
  {
   "cell_type": "code",
   "execution_count": 50,
   "id": "79d84d94-1fbd-4746-bac8-2eb23b34e46f",
   "metadata": {},
   "outputs": [
    {
     "data": {
      "text/plain": [
       "17"
      ]
     },
     "execution_count": 50,
     "metadata": {},
     "output_type": "execute_result"
    }
   ],
   "source": [
    "# Below is a simple arithmetic expression that shows how to multiply integers and add integers:\n",
    "\n",
    "(3*4)+5"
   ]
  },
  {
   "cell_type": "code",
   "execution_count": 51,
   "id": "2e2a2682-c4c1-411f-b2a3-b6716609bd7b",
   "metadata": {},
   "outputs": [
    {
     "data": {
      "text/plain": [
       "3.3333333333333335"
      ]
     },
     "execution_count": 51,
     "metadata": {},
     "output_type": "execute_result"
    }
   ],
   "source": [
    "# This cell coverts 200 minutes into hours by dividing by 60.\n",
    "\n",
    "200/60"
   ]
  },
  {
   "cell_type": "markdown",
   "id": "e81737f4-3838-4522-b572-1c1694df6d30",
   "metadata": {},
   "source": [
    "## Author:\n",
    "\n",
    "Robert C"
   ]
  },
  {
   "cell_type": "code",
   "execution_count": null,
   "id": "1711726b-970a-4809-9a3d-f689bf171552",
   "metadata": {},
   "outputs": [],
   "source": []
  },
  {
   "cell_type": "code",
   "execution_count": null,
   "id": "496892bd-508c-485f-8c6c-202abae8bf0c",
   "metadata": {},
   "outputs": [],
   "source": []
  }
 ],
 "metadata": {
  "kernelspec": {
   "display_name": "Python [conda env:base] *",
   "language": "python",
   "name": "conda-base-py"
  },
  "language_info": {
   "codemirror_mode": {
    "name": "ipython",
    "version": 3
   },
   "file_extension": ".py",
   "mimetype": "text/x-python",
   "name": "python",
   "nbconvert_exporter": "python",
   "pygments_lexer": "ipython3",
   "version": "3.12.7"
  }
 },
 "nbformat": 4,
 "nbformat_minor": 5
}
